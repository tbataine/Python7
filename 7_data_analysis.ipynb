{
 "cells": [
  {
   "cell_type": "markdown",
   "metadata": {},
   "source": [
    "<div style=\"display: flex; align-items: center;\">\n",
    "    <img src=\"../img/es_logo.png\" alt=\"title\" style=\"margin-right: 20px;\">\n",
    "    <h1>Data Analysis Using Python</h1>\n",
    "</div>"
   ]
  },
  {
   "cell_type": "markdown",
   "metadata": {},
   "source": [
    "### Submission Instructions\n",
    "\n",
    "- Complete the excercises in the notebook below.\n",
    "- Once you have completed the notebook, you should submit the completed notebook and any additional files you created for the assignment by uploading them to your github profile and sharing the github link as the submission.\n",
    "- your github repostory should contain the required files as well as a README.md file that summarizes what you have learned in this module."
   ]
  },
  {
   "cell_type": "markdown",
   "metadata": {},
   "source": [
    "### Recommended Readings:\n",
    "- Pandas : [User Guide](https://pandas.pydata.org/docs/user_guide/index.html#user-guide)\n",
    "- Concat, Merge and Join: [Documentation](https://pandas.pydata.org/docs/user_guide/merging.html)"
   ]
  },
  {
   "cell_type": "markdown",
   "metadata": {},
   "source": [
    "Download the following dataset from kaggel: [Employee Salaries Analysis](https://www.kaggle.com/datasets/sahirmaharajj/employee-salaries-analysis)\n",
    "\n",
    "Using pandas find the following:\n",
    "1. The average salary of all employees\n",
    "2. The Department with the highest average salary\n",
    "3. The average salary of employees based on gender"
   ]
  },
  {
   "cell_type": "code",
   "execution_count": 15,
   "metadata": {},
   "outputs": [
    {
     "name": "stdout",
     "output_type": "stream",
     "text": [
      "Average salary of all employees: $ 90312.166\n",
      "Department NAME with highest average salary: Office of Intergovernmental Relations Department ($165196.750)\n",
      "Department with highest average salary: IGR ($165196.750)\n",
      "\n",
      "Average salary based on gender:\n",
      "Gender\n",
      "F    87497.502790\n",
      "M    92382.929752\n",
      "Name: Base_Salary, dtype: float64\n"
     ]
    },
    {
     "data": {
      "text/html": [
       "<div>\n",
       "<style scoped>\n",
       "    .dataframe tbody tr th:only-of-type {\n",
       "        vertical-align: middle;\n",
       "    }\n",
       "\n",
       "    .dataframe tbody tr th {\n",
       "        vertical-align: top;\n",
       "    }\n",
       "\n",
       "    .dataframe thead th {\n",
       "        text-align: right;\n",
       "    }\n",
       "</style>\n",
       "<table border=\"1\" class=\"dataframe\">\n",
       "  <thead>\n",
       "    <tr style=\"text-align: right;\">\n",
       "      <th></th>\n",
       "      <th>Department</th>\n",
       "      <th>Department_Name</th>\n",
       "      <th>Division</th>\n",
       "      <th>Gender</th>\n",
       "      <th>Base_Salary</th>\n",
       "      <th>Overtime_Pay</th>\n",
       "      <th>Longevity_Pay</th>\n",
       "      <th>Grade</th>\n",
       "    </tr>\n",
       "  </thead>\n",
       "  <tbody>\n",
       "    <tr>\n",
       "      <th>0</th>\n",
       "      <td>ABS</td>\n",
       "      <td>Alcohol Beverage Services</td>\n",
       "      <td>ABS 85 Administration</td>\n",
       "      <td>M</td>\n",
       "      <td>175873.000</td>\n",
       "      <td>0.00</td>\n",
       "      <td>0.0</td>\n",
       "      <td>M2</td>\n",
       "    </tr>\n",
       "    <tr>\n",
       "      <th>1</th>\n",
       "      <td>ABS</td>\n",
       "      <td>Alcohol Beverage Services</td>\n",
       "      <td>ABS 85 Administration</td>\n",
       "      <td>M</td>\n",
       "      <td>145613.360</td>\n",
       "      <td>0.00</td>\n",
       "      <td>0.0</td>\n",
       "      <td>M3</td>\n",
       "    </tr>\n",
       "    <tr>\n",
       "      <th>2</th>\n",
       "      <td>ABS</td>\n",
       "      <td>Alcohol Beverage Services</td>\n",
       "      <td>ABS 85 Administration</td>\n",
       "      <td>F</td>\n",
       "      <td>136970.000</td>\n",
       "      <td>0.00</td>\n",
       "      <td>0.0</td>\n",
       "      <td>M3</td>\n",
       "    </tr>\n",
       "    <tr>\n",
       "      <th>3</th>\n",
       "      <td>ABS</td>\n",
       "      <td>Alcohol Beverage Services</td>\n",
       "      <td>ABS 85 Administrative Services</td>\n",
       "      <td>F</td>\n",
       "      <td>89432.694</td>\n",
       "      <td>0.00</td>\n",
       "      <td>2490.0</td>\n",
       "      <td>21</td>\n",
       "    </tr>\n",
       "    <tr>\n",
       "      <th>4</th>\n",
       "      <td>ABS</td>\n",
       "      <td>Alcohol Beverage Services</td>\n",
       "      <td>ABS 85 Administrative Services</td>\n",
       "      <td>F</td>\n",
       "      <td>78947.000</td>\n",
       "      <td>456.68</td>\n",
       "      <td>6257.7</td>\n",
       "      <td>16</td>\n",
       "    </tr>\n",
       "  </tbody>\n",
       "</table>\n",
       "</div>"
      ],
      "text/plain": [
       "  Department            Department_Name                        Division  \\\n",
       "0        ABS  Alcohol Beverage Services           ABS 85 Administration   \n",
       "1        ABS  Alcohol Beverage Services           ABS 85 Administration   \n",
       "2        ABS  Alcohol Beverage Services           ABS 85 Administration   \n",
       "3        ABS  Alcohol Beverage Services  ABS 85 Administrative Services   \n",
       "4        ABS  Alcohol Beverage Services  ABS 85 Administrative Services   \n",
       "\n",
       "  Gender  Base_Salary  Overtime_Pay  Longevity_Pay Grade  \n",
       "0      M   175873.000          0.00            0.0    M2  \n",
       "1      M   145613.360          0.00            0.0    M3  \n",
       "2      F   136970.000          0.00            0.0    M3  \n",
       "3      F    89432.694          0.00         2490.0    21  \n",
       "4      F    78947.000        456.68         6257.7    16  "
      ]
     },
     "execution_count": 15,
     "metadata": {},
     "output_type": "execute_result"
    }
   ],
   "source": [
    "import pandas as pd\n",
    "# The average salary of all employees\n",
    "data = pd.read_csv('Employee_Salaries.csv')\n",
    "average_salary = data['Base_Salary'].mean()\n",
    "print(f\"Average salary of all employees: ${average_salary: .3f}\")\n",
    "\n",
    "# The Department with the highest average salary\n",
    "# since we have two departments attribute i've created for both! \n",
    "\n",
    "department_name_highest_avg_salary = data.groupby('Department_Name')['Base_Salary'].mean().idxmax()\n",
    "highest_avg_salary = data.groupby('Department_Name')['Base_Salary'].mean().max()\n",
    "print(f\"Department NAME with highest average salary: {department_name_highest_avg_salary} (${highest_avg_salary:.3f})\")\n",
    "\n",
    "\n",
    "department_highest_avg_salary = data.groupby('Department')['Base_Salary'].mean().idxmax()\n",
    "highest_avg_salary = data.groupby('Department')['Base_Salary'].mean().max()\n",
    "print(f\"Department with highest average salary: {department_highest_avg_salary} (${highest_avg_salary:.3f})\")\n",
    "# The average salary of employees based on gender\n",
    "data.head()\n",
    "\n",
    "average_salary_gender = data.groupby('Gender')['Base_Salary'].mean()\n",
    "print(f\"\\nAverage salary based on gender:\\n{average_salary_gender}\")\n",
    "\n",
    "data.head()\n"
   ]
  },
  {
   "cell_type": "code",
   "execution_count": null,
   "metadata": {},
   "outputs": [],
   "source": []
  }
 ],
 "metadata": {
  "kernelspec": {
   "display_name": "Python 3",
   "language": "python",
   "name": "python3"
  },
  "language_info": {
   "codemirror_mode": {
    "name": "ipython",
    "version": 3
   },
   "file_extension": ".py",
   "mimetype": "text/x-python",
   "name": "python",
   "nbconvert_exporter": "python",
   "pygments_lexer": "ipython3",
   "version": "3.12.4"
  }
 },
 "nbformat": 4,
 "nbformat_minor": 2
}
